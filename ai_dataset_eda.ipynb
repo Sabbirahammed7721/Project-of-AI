{
 "cells": [
  {
   "cell_type": "markdown",
   "id": "60a7e7a1",
   "metadata": {},
   "source": [
    "# AI Dataset EDA Notebook (NumPy, pandas, Matplotlib, Seaborn)\n",
    "\n",
    "এই নোটবুকটি স্বয়ংক্রিয়ভাবে তৈরি করা হয়েছে। এতে **NumPy, pandas, Matplotlib, Seaborn** ব্যবহার করে \n",
    "আপনার ডেটাসেটের উপর একটি বেসিক EDA টেমপ্লেট দেওয়া আছে।\n",
    "\n",
    "## কীভাবে চালাবেন\n",
    "1. নীচের সেলগুলো ক্রমানুসারে রান করুন।\n",
    "2. `DATA_PATH` ভ্যারিয়েবলটি আপনার ডেটা ফাইল লোকেশনের সাথে মিলিয়ে নিন।\n",
    "\n",
    "এই নোটবুক তৈরির সময় পাওয়া ফাইল তালিকা (zip থেকে extract করা):  \n",
    "- `Cars Datasets 2025.csv`\n",
    "\n",
    "> **Note:** এই নোটবুক ধরে নিচ্ছে আপনার ডেটা ফাইলটি লোকাল ডিরেক্টরিতে আছে।\n"
   ]
  },
  {
   "cell_type": "code",
   "execution_count": null,
   "id": "010b14c6",
   "metadata": {},
   "outputs": [],
   "source": [
    "\n",
    "# Basic imports\n",
    "import os\n",
    "import numpy as np\n",
    "import pandas as pd\n",
    "import matplotlib.pyplot as plt\n",
    "import seaborn as sns\n",
    "\n",
    "# Render settings\n",
    "pd.set_option('display.max_columns', None)\n",
    "pd.set_option('display.width', 120)\n",
    "# seaborn style (optional)\n",
    "sns.set()\n"
   ]
  },
  {
   "cell_type": "code",
   "execution_count": null,
   "id": "5f554a1a",
   "metadata": {},
   "outputs": [],
   "source": [
    "\n",
    "# === CONFIG ===\n",
    "# আপনার ডেটা ফাইলের লোকেশন দিন (নীচের লাইনটি প্রয়োজনে এডিট করুন)\n",
    "DATA_PATH = r\"\"\"/mnt/data/dataset/Cars Datasets 2025.csv\"\"\"\n",
    "\n",
    "# CSV/XLSX/XLS অনুযায়ী পড়ুন\n",
    "file_ext = os.path.splitext(DATA_PATH)[1].lower()\n",
    "if file_ext == \".csv\":\n",
    "    df = pd.read_csv(DATA_PATH)\n",
    "elif file_ext in [\".xlsx\", \".xls\"]:\n",
    "    # যদি Multiple sheets থাকে, প্রথম শিট নেওয়া হলো; প্রয়োজনে sheet_name পরিবর্তন করুন\n",
    "    df = pd.read_excel(DATA_PATH, sheet_name=0)\n",
    "else:\n",
    "    raise ValueError(\"Unsupported file extension: \" + file_ext)\n",
    "\n",
    "print(\"Shape:\", df.shape)\n",
    "df.head()\n"
   ]
  },
  {
   "cell_type": "code",
   "execution_count": null,
   "id": "20e72c69",
   "metadata": {},
   "outputs": [],
   "source": [
    "\n",
    "# ডেটাসেট ইনফো\n",
    "print(\"\\n--- DataFrame Info ---\")\n",
    "print(df.info())\n",
    "\n",
    "# বেসিক ডেসক্রিপটিভ স্ট্যাটস\n",
    "display(df.describe(include='all').transpose())\n",
    "\n",
    "# Missing values overview\n",
    "missing = df.isna().sum().sort_values(ascending=False)\n",
    "print(\"\\n--- Missing Values (count) ---\")\n",
    "display(missing.to_frame(\"missing_count\").head(20))\n"
   ]
  },
  {
   "cell_type": "code",
   "execution_count": null,
   "id": "6fa99cae",
   "metadata": {},
   "outputs": [],
   "source": [
    "\n",
    "# === NumPy Examples ===\n",
    "# Numeric columns detect\n",
    "numeric_cols = df.select_dtypes(include=[\"number\"]).columns.tolist()\n",
    "print(\"Numeric columns:\", numeric_cols)\n",
    "\n",
    "if numeric_cols:\n",
    "    # উদাহরণ: প্রথম numeric কলামের উপর NumPy দিয়ে কিছু হিসাব\n",
    "    col = numeric_cols[0]\n",
    "    arr = df[col].dropna().to_numpy()\n",
    "\n",
    "    print(f\"Column: {col}\")\n",
    "    print(\"Mean (np):\", np.mean(arr))\n",
    "    print(\"Std  (np):\", np.std(arr))\n",
    "    print(\"Min/Max (np):\", np.min(arr), np.max(arr))\n",
    "\n",
    "    # একটি সহজ transform উদাহরণ\n",
    "    z = (arr - np.mean(arr)) / (np.std(arr) if np.std(arr) != 0 else 1)\n",
    "    print(\"Z-score (first 10):\", z[:10])\n",
    "else:\n",
    "    print(\"No numeric columns found for NumPy demo.\")\n"
   ]
  },
  {
   "cell_type": "code",
   "execution_count": null,
   "id": "ca2a1e85",
   "metadata": {},
   "outputs": [],
   "source": [
    "\n",
    "# === Matplotlib Example ===\n",
    "import matplotlib.pyplot as plt\n",
    "\n",
    "if numeric_cols:\n",
    "    plt.figure(figsize=(6,4))\n",
    "    col = numeric_cols[0]\n",
    "    plt.hist(df[col].dropna(), bins=30)\n",
    "    plt.title(f\"Histogram of {col}\")\n",
    "    plt.xlabel(col)\n",
    "    plt.ylabel(\"Frequency\")\n",
    "    plt.show()\n",
    "else:\n",
    "    print(\"No numeric column to plot with Matplotlib.\")\n"
   ]
  },
  {
   "cell_type": "code",
   "execution_count": null,
   "id": "1bfe55a1",
   "metadata": {},
   "outputs": [],
   "source": [
    "\n",
    "# === Seaborn Examples ===\n",
    "import seaborn as sns\n",
    "\n",
    "if len(numeric_cols) >= 2:\n",
    "    # Pairplot on first few numeric columns\n",
    "    subset = numeric_cols[:4]\n",
    "    sns.pairplot(df[subset].dropna())\n",
    "    plt.show()\n",
    "\n",
    "if len(numeric_cols) >= 1:\n",
    "    # Correlation heatmap\n",
    "    corr = df[numeric_cols].corr(numeric_only=True)\n",
    "    plt.figure(figsize=(6,5))\n",
    "    sns.heatmap(corr, annot=False)\n",
    "    plt.title(\"Correlation Heatmap (numeric columns)\")\n",
    "    plt.show()\n"
   ]
  },
  {
   "cell_type": "code",
   "execution_count": null,
   "id": "df9b3e20",
   "metadata": {},
   "outputs": [],
   "source": [
    "\n",
    "# === Categorical Overview ===\n",
    "cat_cols = df.select_dtypes(include=[\"object\",\"category\",\"bool\"]).columns.tolist()\n",
    "print(\"Categorical columns:\", cat_cols)\n",
    "\n",
    "if cat_cols:\n",
    "    col = cat_cols[0]\n",
    "    print(f\"Top categories in '{col}':\")\n",
    "    display(df[col].value_counts().head(20))\n",
    "else:\n",
    "    print(\"No categorical columns detected.\")\n"
   ]
  },
  {
   "cell_type": "code",
   "execution_count": null,
   "id": "221b253a",
   "metadata": {},
   "outputs": [],
   "source": [
    "\n",
    "# === Simple Cleaning Examples ===\n",
    "# Missing value imputation for numeric columns (median)\n",
    "df_clean = df.copy()\n",
    "for col in numeric_cols:\n",
    "    if df_clean[col].isna().any():\n",
    "        df_clean[col].fillna(df_clean[col].median(), inplace=True)\n",
    "\n",
    "# For categoricals, fill with mode\n",
    "for col in cat_cols:\n",
    "    if df_clean[col].isna().any():\n",
    "        df_clean[col].fillna(df_clean[col].mode(dropna=True).iloc[0] if not df_clean[col].mode(dropna=True).empty else \"Unknown\", inplace=True)\n",
    "\n",
    "print(\"Original shape:\", df.shape, \" | Cleaned shape:\", df_clean.shape)\n",
    "df_clean.head()\n"
   ]
  },
  {
   "cell_type": "code",
   "execution_count": null,
   "id": "059c693e",
   "metadata": {},
   "outputs": [],
   "source": [
    "\n",
    "# Cleaned sample save (optional)\n",
    "out_path = \"cleaned_sample.csv\"\n",
    "df_clean.to_csv(out_path, index=False)\n",
    "print(\"Saved cleaned sample to:\", out_path)\n"
   ]
  },
  {
   "cell_type": "markdown",
   "id": "53db74fd",
   "metadata": {},
   "source": [
    "## Next Steps\n",
    "- প্রয়োজন অনুযায়ী ফিচার ইঞ্জিনিয়ারিং, আউটলায়ার হ্যান্ডলিং, স্কেলিং ইত্যাদি যোগ করুন।\n",
    "- মডেলিং করতে চাইলে `scikit-learn` যোগ করে train/test split, baseline model ইত্যাদি করতে পারেন।\n",
    "- ভিজুয়ালাইজেশনের জন্য আরও প্লট (boxplot, violinplot, barplot ইত্যাদি) যুক্ত করুন।\n"
   ]
  }
 ],
 "metadata": {},
 "nbformat": 4,
 "nbformat_minor": 5
}
